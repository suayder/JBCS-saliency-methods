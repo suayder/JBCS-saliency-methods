{
 "cells": [
  {
   "cell_type": "code",
   "execution_count": 3,
   "metadata": {},
   "outputs": [],
   "source": [
    "import os\n",
    "import random\n",
    "import numpy as np\n",
    "import cv2\n",
    "import pandas as pd\n",
    "import numpy as np\n",
    "from tqdm import tqdm\n",
    "import scipy.stats\n",
    "import yaml\n",
    "\n",
    "from data import VideoIterator, ClickAnnotation, file_loader\n",
    "\n",
    "class PATHS:\n",
    "    \n",
    "    config_path = \"config.yaml\"\n",
    "\n",
    "    @classmethod\n",
    "    def load_config(cls):\n",
    "        \"\"\"Load paths from YAML file\"\"\"\n",
    "        with open(cls.config_path, \"r\") as file:\n",
    "            config = yaml.safe_load(file)\n",
    "\n",
    "        cls.video_name = config[\"video_name\"]\n",
    "        cls.video_path = config[\"video_path\"].format(video_name=cls.video_name)\n",
    "        cls.annotation_path = config[\"annotation_path\"]\n",
    "        cls.save_dirs = config[\"save_dirs\"]\n",
    "\n",
    "    # load clicks from path\n",
    "    @classmethod\n",
    "    def load_clicks(cls):\n",
    "        user_folders = [f for f in os.listdir(cls.annotation_path) if os.path.isdir(os.path.join(cls.annotation_path, f))]\n",
    "        all_clicks = []\n",
    "        for i, user_folder in enumerate(user_folders):\n",
    "            clicks = file_loader(os.path.join(cls.annotation_path, user_folder, cls.video_name))\n",
    "            all_clicks.append(clicks)\n",
    "        \n",
    "        return all_clicks\n",
    "    \n",
    "    def set_video_name(cls, new_name):\n",
    "        cls.video_path = cls.video_path.replace(cls.video_name, new_name)\n",
    "        cls.video_name = new_name\n",
    "\n",
    "\n",
    "    @classmethod\n",
    "    def user_names(cls):\n",
    "        return [f for f in os.listdir(cls.annotation_path) if os.path.isdir(os.path.join(cls.annotation_path, f))]\n",
    "    \n",
    "    @classmethod\n",
    "    def video_names(cls):\n",
    "        return [f for f in os.listdir(os.path.join(cls.annotation_path, cls.user_names()[0])) if os.path.isdir(os.path.join(cls.annotation_path, cls.user_names()[0], f))]\n",
    "\n",
    "PATHS.load_config()"
   ]
  },
  {
   "cell_type": "code",
   "execution_count": 4,
   "metadata": {},
   "outputs": [
    {
     "data": {
      "text/plain": [
       "number of clicks: 5723\n",
       "Number of annotators 8"
      ]
     },
     "execution_count": 4,
     "metadata": {},
     "output_type": "execute_result"
    }
   ],
   "source": [
    "video_names = PATHS.video_names()\n",
    "for video_name in video_names:\n",
    "    PATHS.set_video_name(PATHS, video_name)\n",
    "    video = VideoIterator(PATHS.video_path)\n",
    "    annotations = ClickAnnotation(PATHS.annotation_path, PATHS.video_name ,interpolate=True, sequence_length=video.num_frames+1)\n",
    "    break\n"
   ]
  },
  {
   "cell_type": "code",
   "execution_count": null,
   "metadata": {},
   "outputs": [],
   "source": []
  },
  {
   "cell_type": "code",
   "execution_count": 73,
   "metadata": {},
   "outputs": [
    {
     "data": {
      "text/plain": [
       "array([39.09283822, 39.09283822, 39.09283822, ..., 55.91679086,\n",
       "       44.61221806, 39.09283822])"
      ]
     },
     "execution_count": 73,
     "metadata": {},
     "output_type": "execute_result"
    }
   ],
   "source": [
    "xall_ann = []\n",
    "yall_ann = []\n",
    "# for i in range(8):\n",
    "\n",
    "for ann in annotations:\n",
    "    xflat_ann = [user_clicks[0] for user_clicks in ann[:4]]\n",
    "    yflat_ann = [user_clicks[1] for user_clicks in ann[:4]]\n",
    "    xall_ann.append(xflat_ann)\n",
    "    yall_ann.append(yflat_ann)\n",
    "xall_flat_ann = np.array(xall_ann)\n",
    "yall_flat_ann = np.array(yall_ann)\n",
    "\n",
    "# calcule a variância das distâncias ao centro\n",
    "xvar = xall_flat_ann.var(axis=1)\n",
    "# xvar = xall_flat_ann.var(axis=1)\n",
    "xmean = xall_flat_ann.mean(axis=1)\n",
    "ymean = yall_flat_ann.mean(axis=1)\n",
    "\n",
    "svar = ((xall_flat_ann - xmean.reshape(-1, 1))**2 + (yall_flat_ann - ymean.reshape(-1, 1))**2).sum(axis=1)/len(xall_flat_ann)\n",
    "xall_flat_ann.std(axis=1)"
   ]
  },
  {
   "cell_type": "code",
   "execution_count": 70,
   "metadata": {},
   "outputs": [
    {
     "data": {
      "text/plain": [
       "array([ 4369.5   ,  4369.5   ,  4369.5   , ..., 11577.9375, 10576.75  ,\n",
       "        4369.5   ])"
      ]
     },
     "execution_count": 70,
     "metadata": {},
     "output_type": "execute_result"
    }
   ],
   "source": [
    "(xall_flat_ann.var(axis=1) + yall_flat_ann.var(axis=1))"
   ]
  }
 ],
 "metadata": {
  "kernelspec": {
   "display_name": "jbcs",
   "language": "python",
   "name": "python3"
  },
  "language_info": {
   "codemirror_mode": {
    "name": "ipython",
    "version": 3
   },
   "file_extension": ".py",
   "mimetype": "text/x-python",
   "name": "python",
   "nbconvert_exporter": "python",
   "pygments_lexer": "ipython3",
   "version": "3.10.11"
  }
 },
 "nbformat": 4,
 "nbformat_minor": 2
}
